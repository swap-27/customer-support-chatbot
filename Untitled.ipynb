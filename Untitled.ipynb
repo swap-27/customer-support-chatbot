{
 "cells": [
  {
   "cell_type": "code",
   "execution_count": 2,
   "id": "2de71bfe-9f7c-4a1f-9502-7fa8646bcb24",
   "metadata": {},
   "outputs": [],
   "source": [
    "import pandas as pd\n",
    "import re\n",
    "import string\n",
    "from sklearn.model_selection import train_test_split\n",
    "from sklearn.feature_extraction.text import TfidfVectorizer\n",
    "from sklearn.linear_model import LogisticRegression\n",
    "from sklearn.ensemble import RandomForestClassifier\n",
    "from sklearn.svm import SVC\n",
    "from sklearn.metrics import accuracy_score, classification_report"
   ]
  },
  {
   "cell_type": "code",
   "execution_count": 3,
   "id": "c2ae1236-f828-4fac-910d-157434c124dc",
   "metadata": {},
   "outputs": [],
   "source": [
    "df = pd.read_csv(r'artifacts\\customer_support_data.csv')"
   ]
  },
  {
   "cell_type": "code",
   "execution_count": 4,
   "id": "b37bdf72-37e0-451e-8346-5409438c883f",
   "metadata": {},
   "outputs": [
    {
     "data": {
      "text/html": [
       "<div>\n",
       "<style scoped>\n",
       "    .dataframe tbody tr th:only-of-type {\n",
       "        vertical-align: middle;\n",
       "    }\n",
       "\n",
       "    .dataframe tbody tr th {\n",
       "        vertical-align: top;\n",
       "    }\n",
       "\n",
       "    .dataframe thead th {\n",
       "        text-align: right;\n",
       "    }\n",
       "</style>\n",
       "<table border=\"1\" class=\"dataframe\">\n",
       "  <thead>\n",
       "    <tr style=\"text-align: right;\">\n",
       "      <th></th>\n",
       "      <th>flags</th>\n",
       "      <th>instruction</th>\n",
       "      <th>category</th>\n",
       "      <th>intent</th>\n",
       "      <th>response</th>\n",
       "    </tr>\n",
       "  </thead>\n",
       "  <tbody>\n",
       "    <tr>\n",
       "      <th>0</th>\n",
       "      <td>B</td>\n",
       "      <td>question about cancelling order {{Order Number}}</td>\n",
       "      <td>ORDER</td>\n",
       "      <td>cancel_order</td>\n",
       "      <td>I've understood you have a question regarding ...</td>\n",
       "    </tr>\n",
       "    <tr>\n",
       "      <th>1</th>\n",
       "      <td>BQZ</td>\n",
       "      <td>i have a question about cancelling oorder {{Or...</td>\n",
       "      <td>ORDER</td>\n",
       "      <td>cancel_order</td>\n",
       "      <td>I've been informed that you have a question ab...</td>\n",
       "    </tr>\n",
       "    <tr>\n",
       "      <th>2</th>\n",
       "      <td>BLQZ</td>\n",
       "      <td>i need help cancelling puchase {{Order Number}}</td>\n",
       "      <td>ORDER</td>\n",
       "      <td>cancel_order</td>\n",
       "      <td>I can sense that you're seeking assistance wit...</td>\n",
       "    </tr>\n",
       "    <tr>\n",
       "      <th>3</th>\n",
       "      <td>BL</td>\n",
       "      <td>I need to cancel purchase {{Order Number}}</td>\n",
       "      <td>ORDER</td>\n",
       "      <td>cancel_order</td>\n",
       "      <td>I understood that you need assistance with can...</td>\n",
       "    </tr>\n",
       "    <tr>\n",
       "      <th>4</th>\n",
       "      <td>BCELN</td>\n",
       "      <td>I cannot afford this order, cancel purchase {{...</td>\n",
       "      <td>ORDER</td>\n",
       "      <td>cancel_order</td>\n",
       "      <td>I'm sensitive to the fact that you're facing f...</td>\n",
       "    </tr>\n",
       "  </tbody>\n",
       "</table>\n",
       "</div>"
      ],
      "text/plain": [
       "   flags                                        instruction category  \\\n",
       "0      B   question about cancelling order {{Order Number}}    ORDER   \n",
       "1    BQZ  i have a question about cancelling oorder {{Or...    ORDER   \n",
       "2   BLQZ    i need help cancelling puchase {{Order Number}}    ORDER   \n",
       "3     BL         I need to cancel purchase {{Order Number}}    ORDER   \n",
       "4  BCELN  I cannot afford this order, cancel purchase {{...    ORDER   \n",
       "\n",
       "         intent                                           response  \n",
       "0  cancel_order  I've understood you have a question regarding ...  \n",
       "1  cancel_order  I've been informed that you have a question ab...  \n",
       "2  cancel_order  I can sense that you're seeking assistance wit...  \n",
       "3  cancel_order  I understood that you need assistance with can...  \n",
       "4  cancel_order  I'm sensitive to the fact that you're facing f...  "
      ]
     },
     "execution_count": 4,
     "metadata": {},
     "output_type": "execute_result"
    }
   ],
   "source": [
    "df.head()"
   ]
  },
  {
   "cell_type": "code",
   "execution_count": 5,
   "id": "1eed9465-c774-4f18-a217-0e7cebfb3fa4",
   "metadata": {},
   "outputs": [
    {
     "name": "stdout",
     "output_type": "stream",
     "text": [
      "<class 'pandas.core.frame.DataFrame'>\n",
      "RangeIndex: 26872 entries, 0 to 26871\n",
      "Data columns (total 5 columns):\n",
      " #   Column       Non-Null Count  Dtype \n",
      "---  ------       --------------  ----- \n",
      " 0   flags        26872 non-null  object\n",
      " 1   instruction  26872 non-null  object\n",
      " 2   category     26872 non-null  object\n",
      " 3   intent       26872 non-null  object\n",
      " 4   response     26872 non-null  object\n",
      "dtypes: object(5)\n",
      "memory usage: 1.0+ MB\n",
      "None\n"
     ]
    }
   ],
   "source": [
    "print(df.info())"
   ]
  },
  {
   "cell_type": "code",
   "execution_count": 6,
   "id": "458f753b-cb8c-430c-abae-4a88a1d53916",
   "metadata": {},
   "outputs": [
    {
     "name": "stdout",
     "output_type": "stream",
     "text": [
      "Missing values:\n",
      " flags          0\n",
      "instruction    0\n",
      "category       0\n",
      "intent         0\n",
      "response       0\n",
      "dtype: int64\n"
     ]
    }
   ],
   "source": [
    "# Check for missing values\n",
    "print(\"Missing values:\\n\", df.isnull().sum())"
   ]
  },
  {
   "cell_type": "code",
   "execution_count": 7,
   "id": "fa9a5f80-a568-4717-b7bc-4343b5c6912b",
   "metadata": {},
   "outputs": [
    {
     "name": "stdout",
     "output_type": "stream",
     "text": [
      "\n",
      "Unique Categories:\n",
      " category\n",
      "ACCOUNT         5986\n",
      "ORDER           3988\n",
      "REFUND          2992\n",
      "INVOICE         1999\n",
      "CONTACT         1999\n",
      "PAYMENT         1998\n",
      "FEEDBACK        1997\n",
      "DELIVERY        1994\n",
      "SHIPPING        1970\n",
      "SUBSCRIPTION     999\n",
      "CANCEL           950\n",
      "Name: count, dtype: int64\n"
     ]
    }
   ],
   "source": [
    "# Display unique categories\n",
    "print(\"\\nUnique Categories:\\n\", df[\"category\"].value_counts())"
   ]
  },
  {
   "cell_type": "code",
   "execution_count": 8,
   "id": "491c8619-cb11-4e74-b753-7731a2f12e51",
   "metadata": {},
   "outputs": [
    {
     "name": "stdout",
     "output_type": "stream",
     "text": [
      "\n",
      "Unique Intents:\n",
      " intent\n",
      "edit_account                1000\n",
      "switch_account              1000\n",
      "check_invoice               1000\n",
      "complaint                   1000\n",
      "contact_customer_service    1000\n",
      "delivery_period              999\n",
      "registration_problems        999\n",
      "check_payment_methods        999\n",
      "contact_human_agent          999\n",
      "payment_issue                999\n",
      "newsletter_subscription      999\n",
      "get_invoice                  999\n",
      "place_order                  998\n",
      "cancel_order                 998\n",
      "track_refund                 998\n",
      "change_order                 997\n",
      "get_refund                   997\n",
      "create_account               997\n",
      "check_refund_policy          997\n",
      "review                       997\n",
      "set_up_shipping_address      997\n",
      "delivery_options             995\n",
      "delete_account               995\n",
      "recover_password             995\n",
      "track_order                  995\n",
      "change_shipping_address      973\n",
      "check_cancellation_fee       950\n",
      "Name: count, dtype: int64\n"
     ]
    }
   ],
   "source": [
    "# Display unique intents\n",
    "print(\"\\nUnique Intents:\\n\", df[\"intent\"].value_counts())"
   ]
  },
  {
   "cell_type": "code",
   "execution_count": 9,
   "id": "cc3694bf-d6e4-4b38-bb70-0ca633c6f13f",
   "metadata": {},
   "outputs": [],
   "source": [
    "def clean_text(text):\n",
    "    text = text.lower()  # Convert to lowercase\n",
    "    text = re.sub(r'\\d+', '', text)  # Remove numbers\n",
    "    text = text.translate(str.maketrans('', '', string.punctuation))  # Remove punctuation\n",
    "    text = text.strip()  # Remove extra spaces\n",
    "    return text"
   ]
  },
  {
   "cell_type": "code",
   "execution_count": 10,
   "id": "9c0c5655-aa6c-4ed9-bb34-abe5b9854fc8",
   "metadata": {},
   "outputs": [],
   "source": [
    "df['instruction'] = df['instruction'].apply(clean_text)"
   ]
  },
  {
   "cell_type": "code",
   "execution_count": 23,
   "id": "82494adb-abe2-4dce-bf05-8b7ce2bcb341",
   "metadata": {},
   "outputs": [],
   "source": [
    "def output_data_category(df):\n",
    "    X_train, X_test, y_train_category, y_test_category = train_test_split(\n",
    "        df[\"instruction\"], df[\"category\"], \n",
    "        test_size=0.2, random_state=42, stratify=df[\"category\"]\n",
    "    )\n",
    "\n",
    "    vectorizer = TfidfVectorizer(max_features=5000)\n",
    "    X_train = vectorizer.fit_transform(X_train)  # Fit only on training data\n",
    "    X_test = vectorizer.transform(X_test)  # Transform test data\n",
    "    \n",
    "    return X_train, X_test, y_train_category, y_test_category, vectorizer\n",
    "\n",
    "\n",
    "def output_data_intent(self):\n",
    " \n",
    "        X_train, X_test, y_train_intent, y_test_intent = train_test_split(\n",
    "            df[\"instruction\"], df[\"intent\"], \n",
    "            test_size=0.2, random_state=42, stratify=df[\"intent\"]\n",
    "        )\n",
    "\n",
    "        vectorizer_intent = TfidfVectorizer(max_features=5000)\n",
    "        X_train = vectorizer_intent.fit_transform(X_train)  # Fit only on training data\n",
    "        X_test = vectorizer_intent.transform(X_test)  # Transform test data\n",
    "    \n",
    "        return X_train, X_test, y_train_intent, y_test_intent"
   ]
  },
  {
   "cell_type": "code",
   "execution_count": 24,
   "id": "aaa628e2-7525-43fc-9cbd-8078126341a4",
   "metadata": {},
   "outputs": [],
   "source": [
    "# Train-test split for category\n",
    "X_train_category, X_test_category, y_train_category, y_test_category, vectorizer_category = output_data_category(df)"
   ]
  },
  {
   "cell_type": "code",
   "execution_count": 15,
   "id": "459145aa-61af-4fd1-80df-3d5c05c43254",
   "metadata": {},
   "outputs": [],
   "source": [
    "# Train-test split for intent\n",
    "X_train_intent, X_test_intent, y_train_intent, y_test_intent = output_data_intent(df)"
   ]
  },
  {
   "cell_type": "code",
   "execution_count": 16,
   "id": "8669927f-584d-4895-99d7-0dcc58048fdc",
   "metadata": {},
   "outputs": [
    {
     "name": "stdout",
     "output_type": "stream",
     "text": [
      "Shape of X_train: (21497, 2523)\n"
     ]
    }
   ],
   "source": [
    "print(\"Shape of X_train:\", X_train.shape)"
   ]
  },
  {
   "cell_type": "code",
   "execution_count": 17,
   "id": "36e5ed36-6b24-4eae-8615-7989febfa9af",
   "metadata": {},
   "outputs": [
    {
     "name": "stdout",
     "output_type": "stream",
     "text": [
      "Shape of X_test: (5375, 2523)\n"
     ]
    }
   ],
   "source": [
    "print(\"Shape of X_test:\", X_test.shape)"
   ]
  },
  {
   "cell_type": "code",
   "execution_count": 22,
   "id": "acfea403-2a4b-4395-9502-8b7482c4ceb7",
   "metadata": {},
   "outputs": [
    {
     "name": "stdout",
     "output_type": "stream",
     "text": [
      "Category Classification Report:\n",
      "               precision    recall  f1-score   support\n",
      "\n",
      "     ACCOUNT       0.99      1.00      0.99      1197\n",
      "      CANCEL       0.99      1.00      1.00       190\n",
      "     CONTACT       1.00      1.00      1.00       400\n",
      "    DELIVERY       0.99      1.00      0.99       399\n",
      "    FEEDBACK       1.00      1.00      1.00       399\n",
      "     INVOICE       1.00      1.00      1.00       400\n",
      "       ORDER       1.00      1.00      1.00       798\n",
      "     PAYMENT       1.00      0.98      0.99       400\n",
      "      REFUND       1.00      1.00      1.00       598\n",
      "    SHIPPING       1.00      0.97      0.99       394\n",
      "SUBSCRIPTION       1.00      0.99      1.00       200\n",
      "\n",
      "    accuracy                           1.00      5375\n",
      "   macro avg       1.00      0.99      1.00      5375\n",
      "weighted avg       1.00      1.00      1.00      5375\n",
      "\n",
      "Intent Classification Report:\n",
      "                           precision    recall  f1-score   support\n",
      "\n",
      "            cancel_order       0.98      0.99      0.99       200\n",
      "            change_order       0.98      0.98      0.98       199\n",
      " change_shipping_address       0.98      0.98      0.98       195\n",
      "  check_cancellation_fee       1.00      1.00      1.00       190\n",
      "           check_invoice       0.98      0.97      0.97       200\n",
      "   check_payment_methods       1.00      0.99      0.99       200\n",
      "     check_refund_policy       1.00      0.99      1.00       199\n",
      "               complaint       1.00      1.00      1.00       200\n",
      "contact_customer_service       1.00      0.99      0.99       200\n",
      "     contact_human_agent       0.99      0.99      0.99       200\n",
      "          create_account       0.99      0.99      0.99       199\n",
      "          delete_account       0.98      0.98      0.98       199\n",
      "        delivery_options       0.97      1.00      0.99       199\n",
      "         delivery_period       1.00      0.99      0.99       200\n",
      "            edit_account       0.99      0.99      0.99       200\n",
      "             get_invoice       0.97      0.98      0.98       200\n",
      "              get_refund       0.99      1.00      0.99       199\n",
      " newsletter_subscription       1.00      0.99      1.00       200\n",
      "           payment_issue       1.00      0.98      0.99       200\n",
      "             place_order       0.99      0.99      0.99       200\n",
      "        recover_password       0.98      0.99      0.99       199\n",
      "   registration_problems       0.98      0.99      0.99       200\n",
      "                  review       1.00      1.00      1.00       199\n",
      " set_up_shipping_address       1.00      0.98      0.99       199\n",
      "          switch_account       1.00      0.99      1.00       200\n",
      "             track_order       1.00      0.97      0.99       199\n",
      "            track_refund       1.00      1.00      1.00       200\n",
      "\n",
      "                accuracy                           0.99      5375\n",
      "               macro avg       0.99      0.99      0.99      5375\n",
      "            weighted avg       0.99      0.99      0.99      5375\n",
      "\n",
      "Category Accuracy: 1.00\n",
      "Intent Accuracy: 0.99\n"
     ]
    }
   ],
   "source": [
    "# Random Forest for Category\n",
    "category_model = RandomForestClassifier(class_weight='balanced', random_state=42)\n",
    "category_model.fit(X_train_category, y_train_category)\n",
    "category_preds = category_model.predict(X_test_category)\n",
    "\n",
    "# Logistic Regression for Intent\n",
    "intent_model = RandomForestClassifier(class_weight='balanced', random_state=42)\n",
    "intent_model.fit(X_train_intent, y_train_intent)\n",
    "intent_preds = intent_model.predict(X_test_intent)\n",
    "\n",
    "# Evaluate Models\n",
    "print(\"Category Classification Report:\\n\", classification_report(y_test_category, category_preds))\n",
    "print(\"Intent Classification Report:\\n\", classification_report(y_test_intent, intent_preds))\n",
    "\n",
    "# Accuracy Scores\n",
    "print(f\"Category Accuracy: {accuracy_score(y_test_category, category_preds):.2f}\")\n",
    "print(f\"Intent Accuracy: {accuracy_score(y_test_intent, intent_preds):.2f}\")"
   ]
  },
  {
   "cell_type": "markdown",
   "id": "60d4b972-fd83-43c2-af0a-a71e42360e2d",
   "metadata": {},
   "source": [
    "for Category --> Logistic Regression works!"
   ]
  },
  {
   "cell_type": "code",
   "execution_count": 30,
   "id": "64997b54-1b95-4142-8819-fccbb58e6d4f",
   "metadata": {},
   "outputs": [],
   "source": [
    "#for Intent\n",
    "#Random Forest\n",
    "intent_model = RandomForestClassifier(class_weight='balanced', random_state=42)\n",
    "intent_model.fit(X_train, y_train_intent)\n",
    "intent_preds = intent_model.predict(X_test)"
   ]
  },
  {
   "cell_type": "code",
   "execution_count": 31,
   "id": "7967609b-7946-4bf5-8645-89f60f6ce44e",
   "metadata": {},
   "outputs": [
    {
     "name": "stdout",
     "output_type": "stream",
     "text": [
      "Intent Classification Report:\n",
      "                           precision    recall  f1-score   support\n",
      "\n",
      "            cancel_order       0.98      0.98      0.98       200\n",
      "            change_order       0.99      0.99      0.99       199\n",
      " change_shipping_address       0.99      0.99      0.99       195\n",
      "  check_cancellation_fee       0.99      1.00      1.00       190\n",
      "           check_invoice       0.99      0.96      0.98       200\n",
      "   check_payment_methods       1.00      1.00      1.00       200\n",
      "     check_refund_policy       1.00      0.99      1.00       199\n",
      "               complaint       1.00      1.00      1.00       200\n",
      "contact_customer_service       1.00      0.99      0.99       200\n",
      "     contact_human_agent       0.99      0.99      0.99       200\n",
      "          create_account       0.99      0.98      0.98       199\n",
      "          delete_account       0.98      0.98      0.98       199\n",
      "        delivery_options       0.99      1.00      1.00       199\n",
      "         delivery_period       1.00      0.99      1.00       200\n",
      "            edit_account       0.99      0.98      0.99       200\n",
      "             get_invoice       0.97      0.99      0.98       200\n",
      "              get_refund       0.99      1.00      1.00       199\n",
      " newsletter_subscription       1.00      1.00      1.00       200\n",
      "           payment_issue       0.99      0.99      0.99       200\n",
      "             place_order       0.99      0.99      0.99       200\n",
      "        recover_password       0.99      0.99      0.99       199\n",
      "   registration_problems       0.99      0.99      0.99       200\n",
      "                  review       1.00      1.00      1.00       199\n",
      " set_up_shipping_address       1.00      0.99      1.00       199\n",
      "          switch_account       0.99      1.00      1.00       200\n",
      "             track_order       0.99      0.97      0.98       199\n",
      "            track_refund       1.00      1.00      1.00       200\n",
      "\n",
      "                accuracy                           0.99      5375\n",
      "               macro avg       0.99      0.99      0.99      5375\n",
      "            weighted avg       0.99      0.99      0.99      5375\n",
      "\n",
      "Intent Accuracy: 0.99\n"
     ]
    }
   ],
   "source": [
    "print(\"Intent Classification Report:\\n\", classification_report(y_test_intent, intent_preds))\n",
    "print(f\"Intent Accuracy: {accuracy_score(y_test_intent, intent_preds):.2f}\")"
   ]
  },
  {
   "cell_type": "code",
   "execution_count": 27,
   "id": "b6d6c316-f82a-46b6-8909-a60621e9a52e",
   "metadata": {},
   "outputs": [
    {
     "data": {
      "text/plain": [
       "array(['ORDER'], dtype=object)"
      ]
     },
     "execution_count": 27,
     "metadata": {},
     "output_type": "execute_result"
    }
   ],
   "source": [
    "s = \"Hi, I would like to cancel my order\"\n",
    "\n",
    "val = vectorizer_category.transform([s])\n",
    "category_model.predict(val)"
   ]
  },
  {
   "cell_type": "code",
   "execution_count": null,
   "id": "9aea75bc-ec94-44c5-8b6e-3b95163180ef",
   "metadata": {},
   "outputs": [],
   "source": []
  }
 ],
 "metadata": {
  "kernelspec": {
   "display_name": "Python 3 (ipykernel)",
   "language": "python",
   "name": "python3"
  },
  "language_info": {
   "codemirror_mode": {
    "name": "ipython",
    "version": 3
   },
   "file_extension": ".py",
   "mimetype": "text/x-python",
   "name": "python",
   "nbconvert_exporter": "python",
   "pygments_lexer": "ipython3",
   "version": "3.12.7"
  }
 },
 "nbformat": 4,
 "nbformat_minor": 5
}
